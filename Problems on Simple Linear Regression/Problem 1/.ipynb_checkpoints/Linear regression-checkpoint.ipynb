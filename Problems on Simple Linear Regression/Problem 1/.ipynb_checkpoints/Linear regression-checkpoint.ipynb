{
 "cells": [
  {
   "cell_type": "code",
   "execution_count": 23,
   "metadata": {},
   "outputs": [],
   "source": [
    "%matplotlib inline\n",
    "import numpy as np\n",
    "import matplotlib.pyplot as plt\n",
    "import pandas as pd"
   ]
  },
  {
   "cell_type": "code",
   "execution_count": 79,
   "metadata": {},
   "outputs": [],
   "source": [
    "dataset = pd.read_csv('Salary_Data.csv')\n",
    "X = dataset.iloc[ : , :-1].values\n",
    "y = dataset.iloc[ : , 0].values"
   ]
  },
  {
   "cell_type": "code",
   "execution_count": 80,
   "metadata": {
    "scrolled": true
   },
   "outputs": [
    {
     "name": "stdout",
     "output_type": "stream",
     "text": [
      "0.032043796036253624 5.143073963727373\n",
      "30.0 936.218666666667\n"
     ]
    }
   ],
   "source": [
    "X_mean = np.mean(X)\n",
    "y_mean = np.mean(y)\n",
    "\n",
    "n = len(X)\n",
    "\n",
    "# Linear Regression Algorithm Starts here\n",
    "\n",
    "\n",
    "for i in range(n):\n",
    "    n += (X[i][0] - X_mean) - (y[i] - y_mean)\n",
    "    d += (X[i][0] - X_mean)**2\n",
    "    \n",
    "slope = n/d\n",
    "intercept = y_mean - (slope * X_mean)\n",
    "\n",
    "print(slope , intercept)\n",
    "print(n , d)"
   ]
  },
  {
   "cell_type": "code",
   "execution_count": 69,
   "metadata": {},
   "outputs": [
    {
     "name": "stdout",
     "output_type": "stream",
     "text": [
      "[ 1.          1.18367347  1.36734694  1.55102041  1.73469388  1.91836735\n",
      "  2.10204082  2.28571429  2.46938776  2.65306122  2.83673469  3.02040816\n",
      "  3.20408163  3.3877551   3.57142857  3.75510204  3.93877551  4.12244898\n",
      "  4.30612245  4.48979592  4.67346939  4.85714286  5.04081633  5.2244898\n",
      "  5.40816327  5.59183673  5.7755102   5.95918367  6.14285714  6.32653061\n",
      "  6.51020408  6.69387755  6.87755102  7.06122449  7.24489796  7.42857143\n",
      "  7.6122449   7.79591837  7.97959184  8.16326531  8.34693878  8.53061224\n",
      "  8.71428571  8.89795918  9.08163265  9.26530612  9.44897959  9.63265306\n",
      "  9.81632653 10.        ] [76002.81584370339, 76002.82368557957, 76002.83152745574, 76002.83936933192, 76002.84721120809, 76002.85505308428, 76002.86289496045, 76002.87073683663, 76002.8785787128, 76002.88642058898, 76002.89426246515, 76002.90210434134, 76002.9099462175, 76002.91778809369, 76002.92562996986, 76002.93347184604, 76002.94131372221, 76002.94915559838, 76002.95699747457, 76002.96483935074, 76002.97268122692, 76002.98052310309, 76002.98836497928, 76002.99620685545, 76003.00404873163, 76003.0118906078, 76003.01973248398, 76003.02757436015, 76003.03541623634, 76003.0432581125, 76003.05109998869, 76003.05894186486, 76003.06678374104, 76003.07462561721, 76003.0824674934, 76003.09030936957, 76003.09815124574, 76003.10599312192, 76003.11383499809, 76003.12167687427, 76003.12951875044, 76003.13736062663, 76003.1452025028, 76003.15304437898, 76003.16088625515, 76003.16872813134, 76003.1765700075, 76003.18441188369, 76003.19225375986, 76003.20009563604]\n"
     ]
    },
    {
     "data": {
      "image/png": "[encoded data removed]",
      "text/plain": [
       "<Figure size 432x288 with 1 Axes>"
      ]
     },
     "metadata": {
      "needs_background": "light"
     },
     "output_type": "display_data"
    }
   ],
   "source": [
    "x = np.linspace(1,10)\n",
    "yy=[]\n",
    "for i in range(len(x)):\n",
    "    yy.append(intercept+(slope * x[i]))\n",
    "    \n",
    "print(x,yy)    \n",
    "plt.plot(x,yy)\n",
    "plt.scatter(X,y, color='red')\n",
    "\n",
    "plt.title(\"X vs y\")\n",
    "plt.xlabel(\"X\")\n",
    "plt.ylabel(\"y\")\n",
    "plt.show()"
   ]
  },
  {
   "cell_type": "code",
   "execution_count": 77,
   "metadata": {},
   "outputs": [
    {
     "name": "stdout",
     "output_type": "stream",
     "text": [
      "Coefficients: B0=25792.200, B1=9449.962\n"
     ]
    }
   ],
   "source": [
    "\n",
    "# Calculate Coefficients\n",
    " \n",
    "# Calculate the mean value of a list of numbers\n",
    "def mean(values):\n",
    "\treturn sum(values) / float(len(values))\n",
    " \n",
    "# Calculate covariance between x and y\n",
    "def covariance(x, mean_x, y, mean_y):\n",
    "\tcovar = 0.0\n",
    "\tfor i in range(len(x)):\n",
    "\t\tcovar += (x[i] - mean_x) * (y[i] - mean_y)\n",
    "\treturn covar\n",
    " \n",
    "# Calculate the variance of a list of numbers\n",
    "def variance(values, mean):\n",
    "\treturn sum([(x-mean)**2 for x in values])\n",
    " \n",
    "# Calculate coefficients\n",
    "def coefficients(x,y):\n",
    "\n",
    "\tx_mean, y_mean = mean(x), mean(y)\n",
    "\tb1 = covariance(x, x_mean, y, y_mean) / variance(x, x_mean)\n",
    "\tb0 = y_mean - b1 * x_mean\n",
    "\treturn [b0, b1]\n",
    " \n",
    "# calculate coefficients\n",
    "dataset = pd.read_csv('Salary_Data.csv')\n",
    "x = dataset.iloc[ : , 0].values\n",
    "y = dataset.iloc[ : , 1].values\n",
    "\n",
    "b0, b1 = coefficients(x,y)\n",
    "print('Coefficients: B0=%.3f, B1=%.3f' % (b0, b1))"
   ]
  },
  {
   "cell_type": "code",
   "execution_count": null,
   "metadata": {},
   "outputs": [],
   "source": []
  }
 ],
 "metadata": {
  "kernelspec": {
   "display_name": "Python 3",
   "language": "python",
   "name": "python3"
  },
  "language_info": {
   "codemirror_mode": {
    "name": "ipython",
    "version": 3
   },
   "file_extension": ".py",
   "mimetype": "text/x-python",
   "name": "python",
   "nbconvert_exporter": "python",
   "pygments_lexer": "ipython3",
   "version": "3.7.3"
  }
 },
 "nbformat": 4,
 "nbformat_minor": 2
}
