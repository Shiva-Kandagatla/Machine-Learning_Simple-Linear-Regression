{
 "cells": [
  {
   "cell_type": "code",
   "execution_count": 13,
   "metadata": {},
   "outputs": [],
   "source": [
    "import matplotlib.pyplot as plt\n",
    "import pandas as pd\n",
    "import numpy as np"
   ]
  },
  {
   "cell_type": "code",
   "execution_count": 14,
   "metadata": {},
   "outputs": [],
   "source": [
    "def mean(values):\n",
    "\treturn sum(values) / float(len(values))\n",
    " \n",
    "def numerator(x, mean_x, y, mean_y):\n",
    "\tnum = 0.0\n",
    "\tfor i in range(len(x)):\n",
    "\t\tnum += (x[i] - mean_x) * (y[i] - mean_y)\n",
    "\treturn num\n",
    "    \n",
    "def denominator(values, mean):\n",
    "\treturn sum([(x-mean)**2 for x in values])\n",
    " \n",
    "def coefficients(x,y):\n",
    "\tx_mean, y_mean = mean(x), mean(y)\n",
    "\tslop = numerator(x, x_mean, y, y_mean) / denominator(x, x_mean)\n",
    "\tintercpt = y_mean - slop * x_mean\n",
    "\treturn [intercpt, slop]\n",
    "\n",
    "def predict(X,intercept,slope):\n",
    "\tpredictions = list()\n",
    "\tfor i in range(len(X)):\n",
    "\t\tpred = intercept + slope * X[i]\n",
    "\t\tpredictions.append(pred)\n",
    "\treturn predictions"
   ]
  },
  {
   "cell_type": "code",
   "execution_count": 15,
   "metadata": {},
   "outputs": [],
   "source": [
    "dataset = pd.read_csv('DataSet_Problem4.csv')\n",
    "X = dataset.iloc[ : , 0].values\n",
    "y = dataset.iloc[ : , 1].values"
   ]
  },
  {
   "cell_type": "code",
   "execution_count": 16,
   "metadata": {},
   "outputs": [
    {
     "name": "stdout",
     "output_type": "stream",
     "text": [
      "The Least Square Regression Line for given DataSet is Given by :  y = 8.4 * x + -16830.399999999998\n"
     ]
    }
   ],
   "source": [
    "intercept, slope = coefficients(X,y)\n",
    "ypred = predict(X,intercept,slope)\n",
    "print(f\"The Least Square Regression Line for given DataSet is Given by :  y = {slope} * x + {intercept}\")"
   ]
  },
  {
   "cell_type": "code",
   "execution_count": 17,
   "metadata": {},
   "outputs": [
    {
     "name": "stdout",
     "output_type": "stream",
     "text": [
      "Visualizing the Data Points along with the Regression Line\n"
     ]
    },
    {
     "data": {
      "image/png": "[encoded data removed]",
      "text/plain": [
       "<Figure size 432x288 with 1 Axes>"
      ]
     },
     "metadata": {
      "needs_background": "light"
     },
     "output_type": "display_data"
    }
   ],
   "source": [
    "print(\"Visualizing the Data Points along with the Regression Line\")\n",
    "\n",
    "plt.scatter(X,y, color='red')\n",
    "plt.plot(X,ypred, color='blue')\n",
    "plt.title(\"Year vs Sales\")\n",
    "plt.xlabel(\"Year\")\n",
    "plt.ylabel(\"Sales\")\n",
    "plt.show()"
   ]
  },
  {
   "cell_type": "code",
   "execution_count": 25,
   "metadata": {},
   "outputs": [
    {
     "name": "stdout",
     "output_type": "stream",
     "text": [
      "Estimating Sales in the year 2012........ \n",
      "Estimated Sales in the year 2012 is '70.40000000000146'\n"
     ]
    }
   ],
   "source": [
    "print(\"Estimating Sales in the year 2012........ \")\n",
    "estimation = (slope * 2012) + intercept\n",
    "print(f\"Estimated Sales in the year 2012 is \\'{estimation}\\'\")"
   ]
  }
 ],
 "metadata": {
  "kernelspec": {
   "display_name": "Python 3",
   "language": "python",
   "name": "python3"
  },
  "language_info": {
   "codemirror_mode": {
    "name": "ipython",
    "version": 3
   },
   "file_extension": ".py",
   "mimetype": "text/x-python",
   "name": "python",
   "nbconvert_exporter": "python",
   "pygments_lexer": "ipython3",
   "version": "3.7.3"
  }
 },
 "nbformat": 4,
 "nbformat_minor": 2
}
